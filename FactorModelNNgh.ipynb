{
 "cells": [
  {
   "cell_type": "code",
   "execution_count": 49,
   "id": "370e1d35-f73c-430c-9301-ddd71d95afc3",
   "metadata": {},
   "outputs": [],
   "source": [
    "import numpy as np\n",
    "import pandas as pd\n",
    "import yfinance as yf\n",
    "import torch\n",
    "import torch.nn as nn\n",
    "import torch.optim as optim\n",
    "from torch.utils.data import Dataset, DataLoader\n",
    "from sklearn.covariance import LedoitWolf\n",
    "\n",
    "import matplotlib.pyplot as plt\n",
    "import seaborn as sns\n"
   ]
  },
  {
   "cell_type": "code",
   "execution_count": 50,
   "id": "1c44508a-bbf7-4500-91a4-a41237b165e1",
   "metadata": {},
   "outputs": [
    {
     "name": "stdout",
     "output_type": "stream",
     "text": [
      "Using device: cpu\n"
     ]
    }
   ],
   "source": [
    "TICKERS = [\"NVDA\", \"AAPL\", \"MSFT\", \"AMZN\", \"2222.SR\", \"META\", \"TSLA\", \"TSM\", \"AVGO\"]\n",
    "\n",
    "# Data range\n",
    "START_DATE = \"2000-01-01\"\n",
    "END_DATE   = \"2025-01-01\"\n",
    "\n",
    "INPUT_WINDOW   = 60   # more days of past returns\n",
    "LOOKAHEAD_DAYS = 60   # future window for realized covariance\n",
    "ADD_ROLLING_VOL_FEATURE = True  \n",
    "VOL_WINDOW = 10   \n",
    "\n",
    "TRAIN_RATIO  = 0.7\n",
    "VALID_RATIO  = 0.15    # effectively: Train=70%, Val=10%, Test=20%\n",
    "\n",
    "NUM_EPOCHS   = 40     # more epochs t\n",
    "BATCH_SIZE   = 16\n",
    "\n",
    "N_FACTORS    = 2     \n",
    "HIDDEN_SIZE  = 128\n",
    "NUM_LAYERS   = 2\n",
    "\n",
    "LEARNING_RATE = 2e-3\n",
    "WEIGHT_DECAY  = 1e-5 \n",
    "\n",
    "DEVICE = torch.device(\"cuda\" if torch.cuda.is_available() else \"cpu\")\n",
    "\n",
    "torch.manual_seed(42)\n",
    "np.random.seed(42)\n",
    "\n",
    "print(\"Using device:\", DEVICE)"
   ]
  },
  {
   "cell_type": "code",
   "execution_count": 51,
   "id": "2a42c721-f0f5-469d-a471-2a8aebcdc01c",
   "metadata": {},
   "outputs": [
    {
     "name": "stdout",
     "output_type": "stream",
     "text": [
      "Data shape: (973, 9)\n"
     ]
    }
   ],
   "source": [
    "# 3.1 Download data\n",
    "df_prices = yf.download(TICKERS, start=START_DATE, end=END_DATE, progress=False)[\"Adj Close\"]\n",
    "df_prices.dropna(inplace=True)\n",
    "\n",
    "print(\"Data shape:\", df_prices.shape)\n"
   ]
  },
  {
   "cell_type": "code",
   "execution_count": 52,
   "id": "e80223e9-7f4e-48f5-82a4-406d2cce6e3c",
   "metadata": {},
   "outputs": [
    {
     "name": "stdout",
     "output_type": "stream",
     "text": [
      "Returns shape: (972, 9)\n"
     ]
    }
   ],
   "source": [
    "df_returns = df_prices.pct_change().dropna()\n",
    "print(\"Returns shape:\", df_returns.shape)"
   ]
  },
  {
   "cell_type": "code",
   "execution_count": 53,
   "id": "89d70152-be00-4ec8-a8b6-98044324e1cd",
   "metadata": {},
   "outputs": [],
   "source": [
    "def compute_rolling_volatility(returns, vol_window=20):\n",
    "    \"\"\"\n",
    "    Compute rolling volatility for each asset.\n",
    "    returns: pd.DataFrame of daily returns (shape: days x assets).\n",
    "    vol_window: Rolling window size for volatility calculation.\n",
    "    \"\"\"\n",
    "    rolling_vol = returns.rolling(window=vol_window).std().dropna()\n",
    "    return rolling_vol\n"
   ]
  },
  {
   "cell_type": "code",
   "execution_count": null,
   "id": "c6881188-45da-4355-b3b9-97a6f05705d0",
   "metadata": {},
   "outputs": [],
   "source": []
  },
  {
   "cell_type": "code",
   "execution_count": 54,
   "id": "598982e0-0e16-4615-9a52-79f0aad76b68",
   "metadata": {},
   "outputs": [
    {
     "name": "stdout",
     "output_type": "stream",
     "text": [
      "Feature DataFrame shape: (972, 18)\n",
      "Columns: Index(['2222.SR', 'AAPL', 'AMZN', 'AVGO', 'META', 'MSFT', 'NVDA', 'TSLA',\n",
      "       'TSM', '2222.SR_vol', 'AAPL_vol', 'AMZN_vol', 'AVGO_vol', 'META_vol',\n",
      "       'MSFT_vol', 'NVDA_vol', 'TSLA_vol', 'TSM_vol'],\n",
      "      dtype='object')\n"
     ]
    }
   ],
   "source": [
    "# Optional Extra Feature: Rolling Volatility\n",
    "\n",
    "if ADD_ROLLING_VOL_FEATURE:\n",
    "    df_vol = df_returns.rolling(VOL_WINDOW).std().fillna(0.0)\n",
    "    # rename columns to avoid collisions\n",
    "    vol_cols = [f\"{col}_vol\" for col in df_vol.columns]\n",
    "    df_vol.columns = vol_cols\n",
    "    # concat returns + vol side by side\n",
    "    df_features = pd.concat([df_returns, df_vol], axis=1)\n",
    "else:\n",
    "    df_features = df_returns.copy()\n",
    "\n",
    "print(\"Feature DataFrame shape:\", df_features.shape)\n",
    "print(\"Columns:\", df_features.columns)\n",
    "\n",
    "n_assets = len(TICKERS)\n",
    "if ADD_ROLLING_VOL_FEATURE:\n",
    "    # each asset has 2 columns (return + vol)\n",
    "    input_size = n_assets * 2\n",
    "else:\n",
    "    input_size = n_assets"
   ]
  },
  {
   "cell_type": "code",
   "execution_count": 55,
   "id": "f462dd85-676f-4ff7-b17f-9e3c7aa918a3",
   "metadata": {},
   "outputs": [
    {
     "name": "stdout",
     "output_type": "stream",
     "text": [
      "labels_cov shape: (912, 9, 9)\n"
     ]
    }
   ],
   "source": [
    "\n",
    "# For each day t, label = covariance( [t+1 .. t+LOOKAHEAD_DAYS] ).\n",
    "# use LedoitWolf\n",
    "def compute_shrunk_cov_labels(returns_df, look_ahead=20):\n",
    "    \"\"\"\n",
    "    returns_df: shape (num_days, n_assets) of daily returns\n",
    "    look_ahead: how many future days to compute realized covariance\n",
    "    \"\"\"\n",
    "    cov_labels = []\n",
    "    n_assets_ = returns_df.shape[1]\n",
    "    # We'll generate labels for i in [0 .. len- look_ahead]\n",
    "    for i in range(len(returns_df) - look_ahead):\n",
    "        \n",
    "        future_slice = returns_df.iloc[i+1 : i+1+look_ahead]\n",
    "        \n",
    "        lw = LedoitWolf().fit(future_slice.values)\n",
    "        shrunk_cov = lw.covariance_  \n",
    "        \n",
    "        cov_labels.append(shrunk_cov)\n",
    "    return np.array(cov_labels)\n",
    "\n",
    "labels_cov = compute_shrunk_cov_labels(df_returns, LOOKAHEAD_DAYS)\n",
    "print(\"labels_cov shape:\", labels_cov.shape)\n"
   ]
  },
  {
   "cell_type": "code",
   "execution_count": 56,
   "id": "2c5bf4e7-612d-4c03-9cef-1dffb4988913",
   "metadata": {},
   "outputs": [
    {
     "name": "stdout",
     "output_type": "stream",
     "text": [
      "X_array shape: (912, 60, 18)\n"
     ]
    }
   ],
   "source": [
    "# Build feature windows (X_features) with the same length\n",
    "\n",
    "X_list = []\n",
    "for i in range(len(df_features) - LOOKAHEAD_DAYS):\n",
    "    # index i in the label corresponds to data up to day i\n",
    "    if i < INPUT_WINDOW:\n",
    "        window_data = np.zeros((INPUT_WINDOW, input_size))\n",
    "    else:\n",
    "        window_data = df_features.iloc[i - INPUT_WINDOW : i].values\n",
    "    \n",
    "    X_list.append(window_data)\n",
    "\n",
    "X_array = np.array(X_list)  \n",
    "print(\"X_array shape:\", X_array.shape)\n",
    "\n",
    "assert len(X_array) == len(labels_cov), \"Mismatch in features vs. labels length.\"\n"
   ]
  },
  {
   "cell_type": "code",
   "execution_count": 57,
   "id": "8e78b10b-1b75-4e30-bee8-d76299b27116",
   "metadata": {},
   "outputs": [
    {
     "name": "stdout",
     "output_type": "stream",
     "text": [
      "TRAIN samples: 638\n",
      "VAL samples:   137\n",
      "TEST samples:  137\n"
     ]
    }
   ],
   "source": [
    "# Training split\n",
    "\n",
    "total_samples = len(labels_cov)\n",
    "train_end = int(total_samples * TRAIN_RATIO)\n",
    "val_end   = int(total_samples * (TRAIN_RATIO + VALID_RATIO))\n",
    "\n",
    "X_train = X_array[:train_end]\n",
    "y_train = labels_cov[:train_end]\n",
    "\n",
    "X_val = X_array[train_end:val_end]\n",
    "y_val = labels_cov[train_end:val_end]\n",
    "\n",
    "X_test = X_array[val_end:]\n",
    "y_test = labels_cov[val_end:]\n",
    "\n",
    "print(\"TRAIN samples:\", len(X_train))\n",
    "print(\"VAL samples:  \", len(X_val))\n",
    "print(\"TEST samples: \", len(X_test))"
   ]
  },
  {
   "cell_type": "code",
   "execution_count": 58,
   "id": "e6a96ef9-26c3-4e9a-b772-e29ce3e6eac2",
   "metadata": {},
   "outputs": [],
   "source": [
    "class FactorCovModel(nn.Module):\n",
    "    def __init__(self, input_size, hidden_size, num_layers, n_assets, n_factors, dropout_prob):\n",
    "        \"\"\"\n",
    "        input_size  = number of features per timestep (e.g., n_assets or n_assets*2 if vol added)\n",
    "        hidden_size = LSTM hidden state size\n",
    "        num_layers  = number of LSTM layers\n",
    "        n_assets    = number of assets\n",
    "        n_factors   = number of factors (K)\n",
    "        dropout_prob = dropout probability\n",
    "        \"\"\"\n",
    "        super().__init__()\n",
    "        self.n_assets = n_assets\n",
    "        self.n_factors = n_factors\n",
    "\n",
    "        # Add dropout between lSTM layers if num_layers > 1\n",
    "        self.lstm = nn.LSTM(\n",
    "            input_size=input_size,\n",
    "            hidden_size=hidden_size,\n",
    "            num_layers=num_layers,\n",
    "            batch_first=True,\n",
    "            dropout=dropout_prob if num_layers > 1 else 0.0\n",
    "        )\n",
    "        # # loadings + factor_vars + idio_vars\n",
    "        self.out_dim = (n_assets*n_factors) + n_factors + n_assets\n",
    "        self.fc = nn.Linear(hidden_size, self.out_dim)\n",
    "\n",
    "        #Dropout after LSTM before FC layer\n",
    "        self.dropout = nn.Dropout(p=dropout_prob)\n",
    "    def forward(self, x):\n",
    "        \"\"\"\n",
    "        x shape: (batch_size, seq_len=INPUT_WINDOW, input_size)\n",
    "        Return: (batch_size, n_assets, n_assets)\n",
    "        \"\"\"\n",
    "        batch_size = x.size(0)\n",
    "\n",
    "        \n",
    "        lstm_out, (h_n, c_n) = self.lstm(x)\n",
    "        last_out = lstm_out[:, -1, :]  # final timestep\n",
    "        last_out = self.dropout(last_out)   \n",
    "        raw_out = self.fc(last_out)   \n",
    "        \n",
    "        idx = 0\n",
    "        loadings_size   = self.n_assets * self.n_factors\n",
    "        factor_var_size = self.n_factors\n",
    "        idio_var_size   = self.n_assets\n",
    "        \n",
    "        loadings_flat  = raw_out[:, idx : idx+loadings_size]\n",
    "        idx += loadings_size\n",
    "        factor_log_var = raw_out[:, idx : idx+factor_var_size]\n",
    "        idx += factor_var_size\n",
    "        idio_log_var   = raw_out[:, idx : idx+idio_var_size]\n",
    "        idx += idio_var_size\n",
    "        \n",
    "        # Reshape loadings\n",
    "        loadings = loadings_flat.view(batch_size, self.n_assets, self.n_factors)\n",
    "\n",
    "        factor_vars = torch.exp(factor_log_var)\n",
    "        idio_vars   = torch.exp(idio_log_var)\n",
    "\n",
    "        # Construct covariance matrix: Sigma = L diag(factor_vars) L^T + diag(idio_vars)\n",
    "        Sigma_batch = []\n",
    "        for b in range(batch_size):\n",
    "            Lambda = loadings[b]    \n",
    "            F_diag = torch.diag(factor_vars[b])  # (n_factors, n_factors)\n",
    "            factor_cov = Lambda @ F_diag @ Lambda.T\n",
    "            idio_cov   = torch.diag(idio_vars[b])\n",
    "            Sigma_b = factor_cov + idio_cov\n",
    "            Sigma_batch.append(Sigma_b)\n",
    "        \n",
    "        Sigma_pred = torch.stack(Sigma_batch, dim=0)\n",
    "        return Sigma_pred"
   ]
  },
  {
   "cell_type": "code",
   "execution_count": 59,
   "id": "fcc23925-ea1f-4f7e-9d70-ef0bf145cd31",
   "metadata": {},
   "outputs": [],
   "source": [
    "def correlation_loss(Sigma_pred, Sigma_real, eps=1e-12):\n",
    "    \"\"\"\n",
    "    MSE on correlation derived from Sigma_pred and Sigma_real.\n",
    "    \"\"\"\n",
    "    batch_size, N, _ = Sigma_pred.shape\n",
    "    pred_std = torch.sqrt(torch.diagonal(Sigma_pred, dim1=1, dim2=2).clamp(min=eps)).unsqueeze(-1)\n",
    "    real_std = torch.sqrt(torch.diagonal(Sigma_real, dim1=1, dim2=2).clamp(min=eps)).unsqueeze(-1)\n",
    "    \n",
    "    corr_pred = Sigma_pred / (pred_std @ pred_std.transpose(1,2)).clamp(min=eps)\n",
    "    corr_real = Sigma_real / (real_std @ real_std.transpose(1,2)).clamp(min=eps)\n",
    "    \n",
    "    diff = corr_pred - corr_real\n",
    "    return (diff ** 2).mean()\n",
    "\n",
    "def covariance_mse_loss(Sigma_pred, Sigma_real):\n",
    "    return nn.functional.mse_loss(Sigma_pred, Sigma_real)\n",
    "\n",
    "def composite_loss(Sigma_pred, Sigma_real, alpha):\n",
    "\n",
    "    cov_loss = covariance_mse_loss(Sigma_pred, Sigma_real)\n",
    "    corr_loss = correlation_loss(Sigma_pred, Sigma_real)\n",
    "    \n",
    "    return alpha * cov_loss + (1 - alpha) * corr_loss"
   ]
  },
  {
   "cell_type": "code",
   "execution_count": 60,
   "id": "f950ab54-f071-40c3-9053-f266c6c56ea6",
   "metadata": {},
   "outputs": [],
   "source": [
    "\n",
    "class CovDataset(Dataset):\n",
    "    def __init__(self, X, Y):\n",
    "        self.X = X\n",
    "        self.Y = Y\n",
    "        \n",
    "    def __len__(self):\n",
    "        return len(self.X)\n",
    "    \n",
    "    def __getitem__(self, idx):\n",
    "=        x_item = torch.tensor(self.X[idx], dtype=torch.float32)\n",
    "        y_item = torch.tensor(self.Y[idx], dtype=torch.float32)\n",
    "        return x_item, y_item\n",
    "\n",
    "train_dataset = CovDataset(X_train, y_train)\n",
    "val_dataset   = CovDataset(X_val,   y_val)\n",
    "test_dataset  = CovDataset(X_test,  y_test)\n",
    "\n",
    "train_loader = DataLoader(train_dataset, batch_size=BATCH_SIZE, shuffle=True)\n",
    "val_loader   = DataLoader(val_dataset,   batch_size=BATCH_SIZE, shuffle=False)\n",
    "test_loader  = DataLoader(test_dataset,  batch_size=BATCH_SIZE, shuffle=False)\n"
   ]
  },
  {
   "cell_type": "code",
   "execution_count": 61,
   "id": "33091622-ac2e-425e-b38a-e44a634f3743",
   "metadata": {
    "scrolled": true
   },
   "outputs": [
    {
     "name": "stderr",
     "output_type": "stream",
     "text": [
      "/opt/homebrew/anaconda3/lib/python3.12/site-packages/torch/optim/lr_scheduler.py:62: UserWarning: The verbose parameter is deprecated. Please use get_last_lr() to access the learning rate.\n",
      "  warnings.warn(\n"
     ]
    },
    {
     "name": "stdout",
     "output_type": "stream",
     "text": [
      "[Epoch 1/40] LR=2.000000e-03 TrainLoss=0.037516 ValLoss=0.009847\n",
      "[Epoch 2/40] LR=2.000000e-03 TrainLoss=0.007876 ValLoss=0.008001\n",
      "[Epoch 3/40] LR=2.000000e-03 TrainLoss=0.007654 ValLoss=0.009319\n",
      "[Epoch 4/40] LR=2.000000e-03 TrainLoss=0.006567 ValLoss=0.007986\n",
      "[Epoch 5/40] LR=2.000000e-03 TrainLoss=0.006494 ValLoss=0.007601\n",
      "[Epoch 6/40] LR=2.000000e-03 TrainLoss=0.006271 ValLoss=0.010400\n",
      "[Epoch 7/40] LR=2.000000e-03 TrainLoss=0.006340 ValLoss=0.010207\n",
      "[Epoch 8/40] LR=2.000000e-03 TrainLoss=0.006075 ValLoss=0.009309\n",
      "[Epoch 9/40] LR=2.000000e-03 TrainLoss=0.005991 ValLoss=0.007361\n",
      "[Epoch 10/40] LR=2.000000e-03 TrainLoss=0.006111 ValLoss=0.009024\n",
      "[Epoch 11/40] LR=2.000000e-03 TrainLoss=0.006088 ValLoss=0.008612\n",
      "[Epoch 12/40] LR=2.000000e-03 TrainLoss=0.005866 ValLoss=0.010751\n",
      "[Epoch 13/40] LR=1.000000e-03 TrainLoss=0.005885 ValLoss=0.009639\n",
      "[Epoch 14/40] LR=1.000000e-03 TrainLoss=0.005806 ValLoss=0.007438\n",
      "[Epoch 15/40] LR=1.000000e-03 TrainLoss=0.005813 ValLoss=0.008386\n",
      "[Epoch 16/40] LR=1.000000e-03 TrainLoss=0.005845 ValLoss=0.008186\n",
      "[Epoch 17/40] LR=5.000000e-04 TrainLoss=0.005735 ValLoss=0.007881\n",
      "[Epoch 18/40] LR=5.000000e-04 TrainLoss=0.005732 ValLoss=0.008543\n",
      "[Epoch 19/40] LR=5.000000e-04 TrainLoss=0.005761 ValLoss=0.009841\n",
      "[Epoch 20/40] LR=5.000000e-04 TrainLoss=0.005764 ValLoss=0.009524\n",
      "[Epoch 21/40] LR=2.500000e-04 TrainLoss=0.005724 ValLoss=0.010184\n",
      "[Epoch 22/40] LR=2.500000e-04 TrainLoss=0.005707 ValLoss=0.009253\n",
      "[Epoch 23/40] LR=2.500000e-04 TrainLoss=0.005679 ValLoss=0.009517\n",
      "[Epoch 24/40] LR=2.500000e-04 TrainLoss=0.005707 ValLoss=0.008229\n",
      "[Epoch 25/40] LR=1.250000e-04 TrainLoss=0.005644 ValLoss=0.009463\n",
      "[Epoch 26/40] LR=1.250000e-04 TrainLoss=0.005663 ValLoss=0.008438\n",
      "[Epoch 27/40] LR=1.250000e-04 TrainLoss=0.005611 ValLoss=0.009275\n",
      "[Epoch 28/40] LR=1.250000e-04 TrainLoss=0.005639 ValLoss=0.008643\n",
      "[Epoch 29/40] LR=6.250000e-05 TrainLoss=0.005649 ValLoss=0.009076\n",
      "[Epoch 30/40] LR=6.250000e-05 TrainLoss=0.005661 ValLoss=0.008633\n",
      "[Epoch 31/40] LR=6.250000e-05 TrainLoss=0.005617 ValLoss=0.008995\n",
      "[Epoch 32/40] LR=6.250000e-05 TrainLoss=0.005655 ValLoss=0.008858\n",
      "[Epoch 33/40] LR=3.125000e-05 TrainLoss=0.005652 ValLoss=0.008814\n",
      "[Epoch 34/40] LR=3.125000e-05 TrainLoss=0.005610 ValLoss=0.008681\n",
      "[Epoch 35/40] LR=3.125000e-05 TrainLoss=0.005649 ValLoss=0.008931\n",
      "[Epoch 36/40] LR=3.125000e-05 TrainLoss=0.005638 ValLoss=0.008701\n",
      "[Epoch 37/40] LR=1.562500e-05 TrainLoss=0.005630 ValLoss=0.008805\n",
      "[Epoch 38/40] LR=1.562500e-05 TrainLoss=0.005591 ValLoss=0.008764\n",
      "[Epoch 39/40] LR=1.562500e-05 TrainLoss=0.005624 ValLoss=0.008849\n",
      "[Epoch 40/40] LR=1.562500e-05 TrainLoss=0.005609 ValLoss=0.008776\n"
     ]
    }
   ],
   "source": [
    "\n",
    "model = FactorCovModel(\n",
    "    input_size=input_size,\n",
    "    hidden_size=HIDDEN_SIZE,\n",
    "    num_layers=NUM_LAYERS,\n",
    "    n_assets=n_assets,\n",
    "    n_factors=N_FACTORS,\n",
    "    dropout_prob=0.3 \n",
    ").to(DEVICE)\n",
    "\n",
    "optimizer = optim.AdamW(model.parameters(), lr=LEARNING_RATE, weight_decay=WEIGHT_DECAY)\n",
    "\n",
    "scheduler = optim.lr_scheduler.ReduceLROnPlateau(\n",
    "    optimizer, \n",
    "    mode='min',\n",
    "    factor=0.5 ,\n",
    "    patience=3,\n",
    "    verbose=True\n",
    ")\n",
    "\n",
    "num_epochs = NUM_EPOCHS\n",
    "\n",
    "train_losses = []\n",
    "val_losses   = []\n",
    "\n",
    "ALPHA = 0.7\n",
    "\n",
    "for epoch in range(num_epochs):\n",
    "    model.train()\n",
    "    running_train_loss = 0.0\n",
    "    for Xb, Yb in train_loader:\n",
    "        Xb, Yb = Xb.to(DEVICE), Yb.to(DEVICE)\n",
    "        optimizer.zero_grad()\n",
    "        Sigma_pred = model(Xb)\n",
    "        \n",
    "        # combine cov & corr\n",
    "        loss = composite_loss(Sigma_pred, Yb, alpha=ALPHA)\n",
    "        \n",
    "        loss.backward()\n",
    "        optimizer.step()\n",
    "        \n",
    "        running_train_loss += loss.item() * Xb.size(0)\n",
    "    epoch_train_loss = running_train_loss / len(train_dataset)\n",
    "    \n",
    "    model.eval()\n",
    "    running_val_loss = 0.0\n",
    "    with torch.no_grad():\n",
    "        for Xv, Yv in val_loader:\n",
    "            Xv, Yv = Xv.to(DEVICE), Yv.to(DEVICE)\n",
    "            Sigma_pred_val = model(Xv)\n",
    "            \n",
    "            val_loss = composite_loss(Sigma_pred_val, Yv, alpha=ALPHA)\n",
    "            running_val_loss += val_loss.item() * Xv.size(0)\n",
    "    \n",
    "    epoch_val_loss = running_val_loss / len(val_dataset)\n",
    "    \n",
    "    # scheduler\n",
    "    scheduler.step(epoch_val_loss)\n",
    "    \n",
    "    current_lr = optimizer.param_groups[0]['lr']\n",
    "    train_losses.append(epoch_train_loss)\n",
    "    val_losses.append(epoch_val_loss)\n",
    "    \n",
    "    print(f\"[Epoch {epoch+1}/{num_epochs}] LR={current_lr:.6e} \"\n",
    "          f\"TrainLoss={epoch_train_loss:.6f} ValLoss={epoch_val_loss:.6f}\")\n"
   ]
  },
  {
   "cell_type": "code",
   "execution_count": 62,
   "id": "0c3a4091-4298-4764-96d2-5494751b0cf1",
   "metadata": {},
   "outputs": [
    {
     "data": {
      "image/png": "[encoded data removed]",
      "text/plain": [
       "<Figure size 800x400 with 1 Axes>"
      ]
     },
     "metadata": {},
     "output_type": "display_data"
    }
   ],
   "source": [
    "# Plot training curves\n",
    "plt.figure(figsize=(8,4))\n",
    "plt.plot(train_losses, label=\"Train Loss\")\n",
    "plt.plot(val_losses,   label=\"Val Loss\")\n",
    "plt.title(\"Training Curve (Composite Loss)\")\n",
    "plt.xlabel(\"Epoch\")\n",
    "plt.ylabel(\"Loss\")\n",
    "plt.legend()\n",
    "plt.show()"
   ]
  },
  {
   "cell_type": "code",
   "execution_count": 63,
   "id": "acf74482-a369-4419-a399-ffeb70a3fdcd",
   "metadata": {},
   "outputs": [],
   "source": [
    "def rolling_cov_minvar(df_returns, window=20):\n",
    "    \"\"\"\n",
    "    uses rolling sample cov of the last 'window' days\n",
    "    to build a min-var portfolio each day. Returns the daily portfolio returns.\n",
    "    \"\"\"\n",
    "    df_returns = df_returns.reset_index(drop=True)\n",
    "    n_days = len(df_returns)\n",
    "    n_assets_ = df_returns.shape[1]\n",
    "    \n",
    "    weights = []\n",
    "    for t in range(n_days):\n",
    "        if t < window:\n",
    "            # not enough history, skip\n",
    "            weights.append(np.ones(n_assets_) / n_assets_)\n",
    "            continue\n",
    "        \n",
    "        hist = df_returns.iloc[t-window : t]\n",
    "        # sample cov\n",
    "        cov_mat = np.cov(hist.T)\n",
    "        cov_mat += np.eye(n_assets_) * 1e-8\n",
    "        \n",
    "        inv_cov = np.linalg.inv(cov_mat)\n",
    "        ones = np.ones((n_assets_,1))\n",
    "        \n",
    "        w_star = inv_cov @ ones\n",
    "        denom = (ones.T @ inv_cov @ ones).item()\n",
    "        w_star = (w_star / denom).flatten()\n",
    "        weights.append(w_star)\n",
    "    \n",
    "    weights = np.array(weights)\n",
    "    # compute daily returns from day t+1\n",
    "    portfolio_returns = []\n",
    "    for i in range(len(weights)-1):\n",
    "        ret_next = df_returns.iloc[i+1].values\n",
    "        pr = np.dot(weights[i], ret_next)\n",
    "        portfolio_returns.append(pr)\n",
    "    return np.array(portfolio_returns)\n",
    "\n",
    "df_returns_for_baseline = df_returns.copy()\n",
    "baseline_port_rets = rolling_cov_minvar(df_returns.iloc[val_end+LOOKAHEAD_DAYS:])\n",
    "baseline_cum = np.cumprod(1 + baseline_port_rets) - 1"
   ]
  },
  {
   "cell_type": "code",
   "execution_count": 69,
   "id": "4019a54b-4fe1-42e5-b6a9-82d0d3a7bca1",
   "metadata": {},
   "outputs": [
    {
     "name": "stdout",
     "output_type": "stream",
     "text": [
      "Model weights saved to my_factor_model_weights.pth\n"
     ]
    }
   ],
   "source": [
    "# Save trained model weights\n",
    "torch.save(model.state_dict(), \"my_factor_model_weights.pth\")\n",
    "print(\"Model weights saved to my_factor_model_weights.pth\")\n"
   ]
  }
 ],
 "metadata": {
  "kernelspec": {
   "display_name": "Python 3 (ipykernel)",
   "language": "python",
   "name": "python3"
  },
  "language_info": {
   "codemirror_mode": {
    "name": "ipython",
    "version": 3
   },
   "file_extension": ".py",
   "mimetype": "text/x-python",
   "name": "python",
   "nbconvert_exporter": "python",
   "pygments_lexer": "ipython3",
   "version": "3.13.1"
  }
 },
 "nbformat": 4,
 "nbformat_minor": 5
}
